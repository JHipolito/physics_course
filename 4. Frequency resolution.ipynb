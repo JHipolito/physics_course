{
 "cells": [
  {
   "cell_type": "markdown",
   "metadata": {},
   "source": [
    "<center>\n",
    "## <span style=color:blue> Frequency resolution </span>"
   ]
  },
  {
   "cell_type": "markdown",
   "metadata": {},
   "source": [
    "__Uncertainty Principle__ and sampling duration\n",
    "\n"
   ]
  },
  {
   "cell_type": "code",
   "execution_count": 17,
   "metadata": {
    "collapsed": false
   },
   "outputs": [],
   "source": [
    "import numpy as np\n",
    "import matplotlib.pyplot as plt \n",
    "from scipy.fftpack import fft, ifft\n",
    "from IPython.html.widgets import interact\n",
    "from IPython.display import clear_output, display, HTML"
   ]
  },
  {
   "cell_type": "code",
   "execution_count": null,
   "metadata": {
    "collapsed": true
   },
   "outputs": [],
   "source": [
    "interact(Ejercicio1,\n",
    "         sigma = (5, 15, 0.1), beta = (4/3, 10/3, 0.1), rho = (20, 40, 0.1))"
   ]
  },
  {
   "cell_type": "code",
   "execution_count": 70,
   "metadata": {
    "collapsed": false
   },
   "outputs": [
    {
     "data": {
      "image/png": "[encoded data removed]",
      "text/plain": [
       "<matplotlib.figure.Figure at 0x1ca43966f60>"
      ]
     },
     "metadata": {},
     "output_type": "display_data"
    },
    {
     "data": {
      "text/plain": [
       "array([  0.08928510+0.j        ,   0.04195199+0.21443575j,\n",
       "        -0.15899269+0.52449567j,  -1.02702172+1.38730225j,\n",
       "        10.37522758-4.84333212j,   1.92139355-0.56545498j,\n",
       "         1.60559748+0.j        ,   1.92139355+0.56545498j,\n",
       "        10.37522758+4.84333212j,  -1.02702172-1.38730225j,\n",
       "        -0.15899269-0.52449567j,   0.04195199-0.21443575j])"
      ]
     },
     "metadata": {},
     "output_type": "display_data"
    }
   ],
   "source": [
    "fs = 64 # sampling frequency \n",
    "f  = 10 # one signal\n",
    "#x = np.cos(2*np.pi*f*t) + np.cos(2*np.pi*(f+2)*t)\n",
    "plt.figure(1)\n",
    "plt.plot(x)\n",
    "plt.show()\n",
    "Nf = 64\n",
    "\n",
    "def abs_sinc(Nf=64,deltaf = 0.5, x = 1):\n",
    "    t = np.arange(0,2,x/fs) # time-domain samples\n",
    "    x = np.cos(2*np.pi*f*t) + np.cos(2*np.pi*(f+deltaf)*t)\n",
    "    X = fft(x,Nf)/np.sqrt(Nf)\n",
    "    x_axis = np.linspace(0,fs,len(X))\n",
    "    plt.figure(2)\n",
    "    plt.plot(x_axis,abs(X))\n",
    "    plt.xlim(xmax=fs/2)\n",
    "    plt.ylim(ymax=6)\n",
    "    plt.title('frequency response')\n",
    "    plt.show()\n",
    "\n",
    "    return fft(x,Nf/np.sqrt(Nf))\n",
    "\n",
    "interact(abs_sinc,Nf = (32,32*10,10), deltaf = (0.5,4,0.5), x = (0.5,5,0.5))\n"
   ]
  }
 ],
 "metadata": {
  "kernelspec": {
   "display_name": "Python 3",
   "language": "python",
   "name": "python3"
  },
  "language_info": {
   "codemirror_mode": {
    "name": "ipython",
    "version": 3
   },
   "file_extension": ".py",
   "mimetype": "text/x-python",
   "name": "python",
   "nbconvert_exporter": "python",
   "pygments_lexer": "ipython3",
   "version": "3.5.2"
  },
  "widgets": {
   "state": {
    "9a8fc341927f4f22b514b91609bd3c42": {
     "views": [
      {
       "cell_index": 4
      }
     ]
    }
   },
   "version": "1.2.0"
  }
 },
 "nbformat": 4,
 "nbformat_minor": 2
}
